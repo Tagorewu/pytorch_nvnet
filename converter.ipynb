{
 "cells": [
  {
   "cell_type": "markdown",
   "metadata": {},
   "source": [
    "# converter.ipynb\n",
    "\n",
    "This jupyter notebook demonstrates how to convert DICOM (.dcm) MRI images into NifTI (.nii) format"
   ]
  },
  {
   "cell_type": "markdown",
   "metadata": {},
   "source": [
    "## Install Dependencies"
   ]
  },
  {
   "cell_type": "code",
   "execution_count": 1,
   "metadata": {},
   "outputs": [
    {
     "name": "stdout",
     "output_type": "stream",
     "text": [
      "Requirement already satisfied: nibabel in /opt/anaconda3/lib/python3.7/site-packages (2.4.0)\n",
      "Requirement already satisfied: six>=1.3 in /opt/anaconda3/lib/python3.7/site-packages (from nibabel) (1.10.0)\n",
      "Requirement already satisfied: numpy>=1.8 in /opt/anaconda3/lib/python3.7/site-packages (from nibabel) (1.16.2)\n",
      "Requirement already satisfied: nilearn in /opt/anaconda3/lib/python3.7/site-packages (0.5.2)\n",
      "Requirement already satisfied: nibabel>=2.0.2 in /opt/anaconda3/lib/python3.7/site-packages (from nilearn) (2.4.0)\n",
      "Requirement already satisfied: numpy>=1.8 in /opt/anaconda3/lib/python3.7/site-packages (from nibabel>=2.0.2->nilearn) (1.16.2)\n",
      "Requirement already satisfied: six>=1.3 in /opt/anaconda3/lib/python3.7/site-packages (from nibabel>=2.0.2->nilearn) (1.10.0)\n",
      "Requirement already satisfied: pydicom in /opt/anaconda3/lib/python3.7/site-packages (1.2.2)\n",
      "Requirement already satisfied: tensorboardX in /opt/anaconda3/lib/python3.7/site-packages (1.7)\n",
      "Requirement already satisfied: numpy in /opt/anaconda3/lib/python3.7/site-packages (from tensorboardX) (1.16.2)\n",
      "Requirement already satisfied: protobuf>=3.2.0 in /opt/anaconda3/lib/python3.7/site-packages (from tensorboardX) (3.7.1)\n",
      "Requirement already satisfied: six in /opt/anaconda3/lib/python3.7/site-packages (from tensorboardX) (1.10.0)\n",
      "Requirement already satisfied: setuptools in /opt/anaconda3/lib/python3.7/site-packages (from protobuf>=3.2.0->tensorboardX) (40.8.0)\n",
      "Requirement already satisfied: tqdm in /opt/anaconda3/lib/python3.7/site-packages (4.31.1)\n"
     ]
    }
   ],
   "source": [
    "!pip install nibabel\n",
    "!pip install nilearn\n",
    "!pip install pydicom\n",
    "!pip install tensorboardX\n",
    "!pip install tqdm"
   ]
  },
  {
   "cell_type": "markdown",
   "metadata": {},
   "source": [
    "## Imports"
   ]
  },
  {
   "cell_type": "code",
   "execution_count": 1,
   "metadata": {},
   "outputs": [],
   "source": [
    "#General imports\n",
    "import glob\n",
    "import matplotlib.pyplot as plt\n",
    "import nibabel as nib\n",
    "import numpy as np\n",
    "import os\n",
    "import pydicom\n",
    "# from pydicom.data import get_testdata_files\n",
    "# from pydicom.filereader import read_dicomdir\n",
    "from subprocess import call\n",
    "import sys\n",
    "import xml.etree.ElementTree as ET\n",
    "\n",
    "# for auto-reloading external modules\n",
    "# see http://stackoverflow.com/questions/1907993/autoreload-of-modules-in-ipython\n",
    "%load_ext autoreload\n",
    "%autoreload 2"
   ]
  },
  {
   "cell_type": "markdown",
   "metadata": {},
   "source": [
    "## Functions"
   ]
  },
  {
   "cell_type": "code",
   "execution_count": 2,
   "metadata": {},
   "outputs": [],
   "source": [
    "def loadDCM(directory, sort = False):\n",
    "    dataset = []\n",
    "\n",
    "    for file in os.listdir(os.fsencode(directory)):\n",
    "        filename = os.fsdecode(file)\n",
    "        if filename.endswith(\".dcm\"):\n",
    "            data = pydicom.read_file(os.path.join(directory, filename))\n",
    "            #data = pydicom.dcmread(os.path.join(directory, filename))\n",
    "            dataset.append(data)\n",
    "    \n",
    "    if sort:\n",
    "        #dataset = sorted(dataset, key=lambda x: x.SliceLocation, reverse=True)\n",
    "        dataset = sorted(dataset, key=lambda x: x.InstanceNumber, reverse=True)\n",
    "            \n",
    "    return dataset\n",
    "\n",
    "def displayDCMInfo(dataset, start = 0, end = -1, verbose = False):\n",
    "    \n",
    "    if verbose:\n",
    "        for i in range(start, end):\n",
    "            print(dataset[i])\n",
    "            print()\n",
    "    else:\n",
    "        #Print common attributes once\n",
    "        with dataset[0] as data:\n",
    "            print(\"Patient id..............:\", data.PatientID)\n",
    "            print(\"Modality................:\", data.Modality)\n",
    "            print(\"Study Description.......:\", data.StudyDescription)\n",
    "            print(\"Study Date..............:\", data.StudyDate)\n",
    "            print(\"Series Description......:\", data.SeriesDescription)\n",
    "            print(\"Series Instance UID.....:\", data.SeriesInstanceUID)\n",
    "            print(\"Frame of Reference UID..:\", data.FrameOfReferenceUID)\n",
    "            if 'PixelData' in data:\n",
    "                rows = int(data.Rows)\n",
    "                cols = int(data.Columns)\n",
    "                print(\"Image size.......: {rows:d} x {cols:d}, {size:d} bytes\".format(\n",
    "                    rows=rows, cols=cols, size=len(data.PixelData)))\n",
    "                if 'PixelSpacing' in data:\n",
    "                    print(\"Pixel spacing....:\", data.PixelSpacing)\n",
    "            print()\n",
    "        \n",
    "        for i in range(start, end):\n",
    "            data = dataset[i]\n",
    "            print(\"SOP Instance UID........:\", data.SOPInstanceUID)\n",
    "            print(\"Instance Number.........:\", data.InstanceNumber)\n",
    "            if 'SliceLocation' in dataset[i]:\n",
    "                print(\"Image Position.....:\", data.ImagePositionPatient)\n",
    "                print(\"Image Orientation..:\", data.ImageOrientationPatient)\n",
    "                print(\"Slice Location.....:\", data.SliceLocation)\n",
    "            print()\n",
    "\n",
    "        \n",
    "#Extract 3D Pixel Array\n",
    "def extractPixelMatrix(dataset):\n",
    "    pixels = list(map(lambda data: data.pixel_array, dataset))\n",
    "    return np.array(pixels)\n",
    "\n",
    "def saveAsNifti(data, directory, patient):\n",
    "    os.makedirs(directory)\n",
    "    data = nib.Nifti1Image(data, affine=np.eye(4))\n",
    "    nib.save(data, os.path.join(directory, \"volume-\" + patient + \".nii\"))"
   ]
  },
  {
   "cell_type": "code",
   "execution_count": 30,
   "metadata": {},
   "outputs": [
    {
     "name": "stdout",
     "output_type": "stream",
     "text": [
      "Num of DCM images loaded: 1040\n",
      "\n",
      "3D image dimension: (1040, 256, 256)\n"
     ]
    }
   ],
   "source": [
    "#Load data\n",
    "src_dir = 'data/raw/sag/dicom/1575473977/'\n",
    "dest_dir = 'data/raw/sag/dicom_converted/1575473977/'\n",
    "dataset = loadDCM(src_dir, sort = True) \n",
    "\n",
    "print(\"Num of DCM images loaded:\", len(dataset), end='\\n\\n')\n",
    "\n",
    "#Extract 3D Pixel Array\n",
    "dataset_pixels = extractPixelMatrix(dataset)\n",
    "print(\"3D image dimension:\", dataset_pixels.shape)\n"
   ]
  },
  {
   "cell_type": "code",
   "execution_count": 28,
   "metadata": {},
   "outputs": [
    {
     "name": "stdout",
     "output_type": "stream",
     "text": [
      "Patient id..............: 1575473977\n",
      "Modality................: MR\n",
      "Study Description.......: MR BREAST BILATERAL\n",
      "Study Date..............: 19991003\n",
      "Series Description......: SAG POST\n",
      "Series Instance UID.....: 9999.150304060546306973224365164370887611217\n",
      "Frame of Reference UID..: 9999.242136065787416660593293942442553187460\n",
      "Image size.......: 256 x 256, 131072 bytes\n",
      "Pixel spacing....: ['1.0547', '1.0547']\n",
      "\n",
      "SOP Instance UID........: 9999.212820969752531162755733812368269136073\n",
      "Instance Number.........: 1040\n",
      "Image Position.....: ['-218.738', '-126.966', '135.558']\n",
      "Image Orientation..: ['-0', '1', '0', '-0', '-0', '-1']\n",
      "Slice Location.....: 218.7380219\n",
      "\n",
      "SOP Instance UID........: 9999.1986617825982244649676385659190797263\n",
      "Instance Number.........: 1039\n",
      "Image Position.....: ['-216.738', '-126.966', '135.558']\n",
      "Image Orientation..: ['-0', '1', '0', '-0', '-0', '-1']\n",
      "Slice Location.....: 216.7380219\n",
      "\n",
      "SOP Instance UID........: 9999.74239421763104661820240935570927963971\n",
      "Instance Number.........: 1038\n",
      "Image Position.....: ['-214.738', '-126.966', '135.558']\n",
      "Image Orientation..: ['-0', '1', '0', '-0', '-0', '-1']\n",
      "Slice Location.....: 214.7380219\n",
      "\n",
      "SOP Instance UID........: 9999.5895929037036680067465497229343143585\n",
      "Instance Number.........: 1037\n",
      "Image Position.....: ['-212.738', '-126.966', '135.558']\n",
      "Image Orientation..: ['-0', '1', '0', '-0', '-0', '-1']\n",
      "Slice Location.....: 212.7380219\n",
      "\n",
      "SOP Instance UID........: 9999.44427621667931401504926215390183535785\n",
      "Instance Number.........: 1036\n",
      "Image Position.....: ['-210.738', '-126.966', '135.558']\n",
      "Image Orientation..: ['-0', '1', '0', '-0', '-0', '-1']\n",
      "Slice Location.....: 210.7380219\n",
      "\n",
      "SOP Instance UID........: 9999.228059947704510328787876534511503880903\n",
      "Instance Number.........: 1035\n",
      "Image Position.....: ['-208.738', '-126.966', '135.558']\n",
      "Image Orientation..: ['-0', '1', '0', '-0', '-0', '-1']\n",
      "Slice Location.....: 208.7380219\n",
      "\n",
      "SOP Instance UID........: 9999.53390401392362550884262302843379438822\n",
      "Instance Number.........: 1034\n",
      "Image Position.....: ['-206.738', '-126.966', '135.558']\n",
      "Image Orientation..: ['-0', '1', '0', '-0', '-0', '-1']\n",
      "Slice Location.....: 206.7380219\n",
      "\n",
      "SOP Instance UID........: 9999.200830346705658720474043798345592235140\n",
      "Instance Number.........: 1033\n",
      "Image Position.....: ['-204.738', '-126.966', '135.558']\n",
      "Image Orientation..: ['-0', '1', '0', '-0', '-0', '-1']\n",
      "Slice Location.....: 204.7380219\n",
      "\n",
      "SOP Instance UID........: 9999.136826412645192671620084748861781843014\n",
      "Instance Number.........: 1032\n",
      "Image Position.....: ['-202.738', '-126.966', '135.558']\n",
      "Image Orientation..: ['-0', '1', '0', '-0', '-0', '-1']\n",
      "Slice Location.....: 202.7380219\n",
      "\n",
      "SOP Instance UID........: 9999.218917497805532042830022768297533441353\n",
      "Instance Number.........: 1031\n",
      "Image Position.....: ['-200.738', '-126.966', '135.558']\n",
      "Image Orientation..: ['-0', '1', '0', '-0', '-0', '-1']\n",
      "Slice Location.....: 200.7380219\n",
      "\n",
      "SOP Instance UID........: 9999.25281537048012897343785690710375096695\n",
      "Instance Number.........: 1030\n",
      "Image Position.....: ['-198.738', '-126.966', '135.558']\n",
      "Image Orientation..: ['-0', '1', '0', '-0', '-0', '-1']\n",
      "Slice Location.....: 198.7380219\n",
      "\n",
      "SOP Instance UID........: 9999.183699960985639634054442525107191084351\n",
      "Instance Number.........: 1029\n",
      "Image Position.....: ['-196.738', '-126.966', '135.558']\n",
      "Image Orientation..: ['-0', '1', '0', '-0', '-0', '-1']\n",
      "Slice Location.....: 196.7380219\n",
      "\n",
      "SOP Instance UID........: 9999.182034756627723392503613002242765790478\n",
      "Instance Number.........: 1028\n",
      "Image Position.....: ['-194.738', '-126.966', '135.558']\n",
      "Image Orientation..: ['-0', '1', '0', '-0', '-0', '-1']\n",
      "Slice Location.....: 194.7380219\n",
      "\n",
      "SOP Instance UID........: 9999.281373494127333284917592552653140775432\n",
      "Instance Number.........: 1027\n",
      "Image Position.....: ['-192.738', '-126.966', '135.558']\n",
      "Image Orientation..: ['-0', '1', '0', '-0', '-0', '-1']\n",
      "Slice Location.....: 192.7380219\n",
      "\n",
      "SOP Instance UID........: 9999.98511503961701805980806870047489511340\n",
      "Instance Number.........: 1026\n",
      "Image Position.....: ['-190.738', '-126.966', '135.558']\n",
      "Image Orientation..: ['-0', '1', '0', '-0', '-0', '-1']\n",
      "Slice Location.....: 190.7380219\n",
      "\n"
     ]
    }
   ],
   "source": [
    "#Display metadata of the first 5 frames\n",
    "displayDCMInfo(dataset, start=0, end=15, verbose=False)"
   ]
  },
  {
   "cell_type": "code",
   "execution_count": 32,
   "metadata": {},
   "outputs": [],
   "source": [
    "#Save as .nii file\n",
    "saveAsNifti(dataset_pixels, dest_dir, '1575473977')"
   ]
  },
  {
   "cell_type": "code",
   "execution_count": 39,
   "metadata": {},
   "outputs": [],
   "source": [
    "#Convenience function to do the entire conversion\n",
    "def convert(patient):\n",
    "    src_dir = 'data/raw/sag/dicom/' + patient + '/'\n",
    "    dest_dir = 'data/raw/sag/dicom_converted/' + patient + '/'\n",
    "    dataset = loadDCM(src_dir, sort = True) \n",
    "\n",
    "    #Extract 3D Pixel Array\n",
    "    dataset_pixels = extractPixelMatrix(dataset)\n",
    "    print(\"3D image dimension:\", dataset_pixels.shape)\n",
    "    \n",
    "    #Transpose (for SAG only)\n",
    "    dataset_pixels = dataset_pixels.transpose(0, 2, 1)\n",
    "    \n",
    "    #Save as .nii file\n",
    "    saveAsNifti(dataset_pixels, dest_dir, patient)"
   ]
  },
  {
   "cell_type": "code",
   "execution_count": 40,
   "metadata": {},
   "outputs": [
    {
     "name": "stdout",
     "output_type": "stream",
     "text": [
      "Converting: 2493250475\n",
      "3D image dimension: (460, 512, 512)\n",
      "Converting: 1688915074\n",
      "3D image dimension: (1000, 256, 256)\n",
      "Converting: 1575473977\n",
      "3D image dimension: (1040, 256, 256)\n",
      "Converting: 2171182440\n",
      "3D image dimension: (156, 512, 512)\n",
      "Converting: 3125791139\n",
      "3D image dimension: (384, 256, 256)\n",
      "Converting: 2868733460\n",
      "3D image dimension: (140, 512, 512)\n",
      "Converting: 3064160959\n",
      "3D image dimension: (288, 512, 512)\n",
      "Converting: 4707565301\n",
      "3D image dimension: (222, 512, 512)\n"
     ]
    }
   ],
   "source": [
    "directory = 'data/raw/sag/dicom/'\n",
    "for file in os.listdir(os.fsencode(directory)):\n",
    "    patient = os.fsdecode(file)\n",
    "    print('Converting:', patient)\n",
    "    convert(patient)"
   ]
  },
  {
   "cell_type": "code",
   "execution_count": 4,
   "metadata": {},
   "outputs": [
    {
     "name": "stdout",
     "output_type": "stream",
     "text": [
      "3D image dimension: (460, 512, 512)\n"
     ]
    }
   ],
   "source": [
    "#Special case: multi-sweep MRI\n",
    "patient='2493250475'\n",
    "src_dir = 'data/raw/sag/dicom/' + patient + '/'\n",
    "dest_dir = 'data/raw/sag/dicom_converted/' + patient + '_'\n",
    "dataset = loadDCM(src_dir, sort = True) \n",
    "\n",
    "#Extract 3D Pixel Array\n",
    "dataset_pixels = extractPixelMatrix(dataset)\n",
    "\n",
    "#Transpose (for SAG only)\n",
    "dataset_pixels = dataset_pixels.transpose(0, 2, 1)\n",
    "\n",
    "print(\"3D image dimension:\", dataset_pixels.shape)\n",
    "D, H, W = dataset_pixels.shape\n",
    "#Save as .nii file\n",
    "for i in range(5):\n",
    "    s = dataset_pixels[D//5*i:D//5*(i+1),:,:]\n",
    "    saveAsNifti(s, dest_dir + str(i) + '/', patient)"
   ]
  },
  {
   "cell_type": "code",
   "execution_count": null,
   "metadata": {},
   "outputs": [],
   "source": []
  }
 ],
 "metadata": {
  "kernelspec": {
   "display_name": "Python 3",
   "language": "python",
   "name": "python3"
  },
  "language_info": {
   "codemirror_mode": {
    "name": "ipython",
    "version": 3
   },
   "file_extension": ".py",
   "mimetype": "text/x-python",
   "name": "python",
   "nbconvert_exporter": "python",
   "pygments_lexer": "ipython3",
   "version": "3.7.3"
  }
 },
 "nbformat": 4,
 "nbformat_minor": 2
}
