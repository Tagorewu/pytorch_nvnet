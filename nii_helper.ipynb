{
 "cells": [
  {
   "cell_type": "code",
   "execution_count": 5,
   "metadata": {},
   "outputs": [],
   "source": [
    "import functools\n",
    "import glob\n",
    "import nibabel as nib\n",
    "import numpy as np\n",
    "import os\n",
    "import sys"
   ]
  },
  {
   "cell_type": "code",
   "execution_count": 15,
   "metadata": {},
   "outputs": [
    {
     "name": "stdout",
     "output_type": "stream",
     "text": [
      "321.56370587244527 517.4083720223107 -2.0 22591.0 data/raw/train/4030249091/volume_4030249091.nii data/raw/train/1543518185/volume-1543518185.nii\n"
     ]
    }
   ],
   "source": [
    "def calculateStats(directory):\n",
    "    \n",
    "    voxelSum = 0.0\n",
    "    voxelSumSq = 0.0\n",
    "    numVoxels = 0\n",
    "    \n",
    "    maxVal = float('-inf')\n",
    "    maxFile = None\n",
    "    minVal = float('inf')\n",
    "    minFile = None\n",
    "    \n",
    "    for subdir in os.listdir(os.fsencode(directory)):\n",
    "        subdirname = os.fsdecode(subdir)\n",
    "        if not subdirname.startswith(\".\"):\n",
    "            full_subdir_path = os.path.join(directory, subdirname)\n",
    "            for file in os.listdir(os.fsencode(full_subdir_path)):\n",
    "                filename = os.fsdecode(file)\n",
    "                if filename.endswith(\".nii\"):\n",
    "                    if filename.startswith(\"volume\"): \n",
    "                        full_file_path = os.path.join(full_subdir_path, filename)\n",
    "                        img = nib.load(full_file_path).get_data()\n",
    "                        voxelSum += np.sum(img)\n",
    "                        voxelSumSq += np.sum(np.square(img))\n",
    "                        numVoxels += img.shape[0] * img.shape[1] * img.shape[2]\n",
    "                        ma = np.max(img)\n",
    "                        if ma > maxVal:\n",
    "                            maxVal = ma\n",
    "                            maxFile = full_file_path\n",
    "                        mi = np.min(img)\n",
    "                        if mi < minVal:\n",
    "                            minVal = mi  \n",
    "                            minFile = full_file_path\n",
    "    \n",
    "    mean = voxelSum / numVoxels\n",
    "    stddev = (voxelSumSq / numVoxels - mean**2)**(0.5)\n",
    "                    \n",
    "    return mean, stddev, minVal, maxVal, minFile, maxFile\n",
    "\n",
    "train_dir = 'data/raw/train'\n",
    "\n",
    "#Calculate training data mean and stddev\n",
    "mean, stddev, minVal, maxVal, minFile, maxFile = calculateStats(train_dir)\n",
    "print(mean, stddev, minVal, maxVal, minFile, maxFile)"
   ]
  },
  {
   "cell_type": "code",
   "execution_count": 31,
   "metadata": {},
   "outputs": [
    {
     "name": "stdout",
     "output_type": "stream",
     "text": [
      "[[ 0.  0.  0.  0.  0.  0.  0.  0.  0.  0.]\n",
      " [ 1.  0.  0.  0.  0.  0.  0.  0.  0.  0.]\n",
      " [ 0.  0.  0.  1.  0. -2. -1.  1.  0.  0.]\n",
      " [ 4.  7. 10. 13. 11. 11. 17. 22. 21. 19.]\n",
      " [ 8. 12. 20. 28. 32. 33. 32. 37. 42. 43.]\n",
      " [10. 11. 19. 27. 34. 34. 25. 28. 41. 45.]\n",
      " [ 6. 11. 18. 21. 24. 27. 17. 19. 41. 55.]\n",
      " [ 7. 16. 20. 14. 12. 18. 14. 15. 42. 65.]\n",
      " [15. 19. 20. 14. 12. 15. 12. 15. 38. 60.]\n",
      " [18. 16. 15. 13. 16. 18. 18. 21. 32. 45.]]\n",
      "(512, 512, 68)\n",
      "-2.0\n",
      "275.0\n",
      "21.918333\n",
      "27.773787\n",
      "(2, 380, 56)\n",
      "[[  627.   827.   880.   518.   224.   441.   266.   327.   822.  1266.]\n",
      " [  794.   369.   284.   479.   368.   527.  1023.  1013.   805.   635.]\n",
      " [  786.   484.   801.  1266.  1803.  2070.  1983.  1281.   951.  1678.]\n",
      " [ 2303.  2519.  3516.  3208.  3942.  3328.  4596.  4638.  4281.  2245.]\n",
      " [ 6679.  6387.  8002.  7442.  8956.  7934.  6654.  5068. 16136. 10461.]\n",
      " [ 1383.  2965.  1697.  3525.  3796. 10806. 17958. 22591. 11114. 18744.]\n",
      " [ 4768.  5208.  7682.  6986. 18056. 13778. 20852. 16528. 17547.  6923.]\n",
      " [11976. 16057. 14462. 19253.  9971. 14742.  9543. 11519.  6854. 12829.]\n",
      " [ 6735. 11614.  7809. 11316.  6491. 11585.  9229. 13718. 11977. 11431.]\n",
      " [15144. 16743. 14424. 16430. 14720. 15170. 13922. 11818.  9825.  5675.]]\n",
      "(176, 512, 512)\n",
      "0.0\n",
      "22591.0\n",
      "446.00223\n",
      "608.5318\n",
      "(99, 345, 267)\n"
     ]
    }
   ],
   "source": [
    "\n",
    "img = nib.load('data/raw/train/4030249091/volume_4030249091.nii').get_data()\n",
    "print(img[:10,375:385, 56])\n",
    "print(img.shape)\n",
    "print(np.min(img))\n",
    "print(np.max(img))\n",
    "print(np.mean(img))\n",
    "print(np.std(img))\n",
    "print(np.unravel_index(np.argmin(img), img.shape))\n",
    "\n",
    "img = nib.load('data/raw/train/1543518185/volume-1543518185.nii').get_data()\n",
    "print(img[99,340:350,260:270])\n",
    "print(img.shape)\n",
    "print(np.min(img))\n",
    "print(np.max(img))\n",
    "print(np.mean(img))\n",
    "print(np.std(img))\n",
    "print(np.unravel_index(np.argmax(img), img.shape))"
   ]
  },
  {
   "cell_type": "code",
   "execution_count": 24,
   "metadata": {},
   "outputs": [],
   "source": [
    "def rebuildNii(directory, folder_name, mean, stddev):\n",
    "    img = None\n",
    "    final_seg = None\n",
    "    segs = []\n",
    "\n",
    "    for file in os.listdir(os.fsencode(directory)):\n",
    "        filename = os.fsdecode(file)\n",
    "        if filename.endswith(\".nii\"):\n",
    "            if filename.startswith(\"volume\"): \n",
    "                img = nib.load(os.path.join(directory, filename)).get_data()\n",
    "                \n",
    "            elif filename.startswith(\"SEG\"): \n",
    "                seg = nib.load(os.path.join(directory, filename)).get_data()\n",
    "                seg = seg[:,:,:,0]                \n",
    "                segs.append(seg)\n",
    "                \n",
    "    if(len(segs) == 0):\n",
    "        final_seg = np.zeros(img.shape)\n",
    "    elif(len(segs) == 1):\n",
    "        final_seg = segs[0]\n",
    "    else:\n",
    "        final_seg = functools.reduce(lambda a, b: np.bitwise_or(a, b), segs)\n",
    "            \n",
    "    D, H, W = img.shape\n",
    "    \n",
    "    #hack to move depth to 1st dim\n",
    "    if D == H:\n",
    "        img = img.transpose(2, 0, 1)\n",
    "        final_seg = final_seg.transpose(2, 0, 1)\n",
    "        D, W = W, D\n",
    "        \n",
    "    #normalize image\n",
    "    img = (img - mean) / stddev\n",
    "        \n",
    "    final_img = nib.Nifti1Image(img, affine=np.eye(4))\n",
    "    final_seg_img = nib.Nifti1Image(final_seg, affine=np.eye(4))\n",
    "\n",
    "    os.makedirs(folder_name)\n",
    "    nib.save(final_seg_img, os.path.join(folder_name, \"seg.nii\"))\n",
    "    nib.save(final_img, os.path.join(folder_name, \"img.nii\"))\n",
    "    "
   ]
  },
  {
   "cell_type": "code",
   "execution_count": 25,
   "metadata": {},
   "outputs": [
    {
     "name": "stdout",
     "output_type": "stream",
     "text": [
      "321.56370587244527 517.4083720223107 -2.0 22591.0 data/raw/train/4030249091/volume_4030249091.nii data/raw/train/1543518185/volume-1543518185.nii\n"
     ]
    }
   ],
   "source": [
    "train_dir = 'data/raw/train'\n",
    "\n",
    "#Calculate training data mean and stddev\n",
    "mean, stddev, minVal, maxVal, minFile, maxFile = calculateStats(train_dir)\n",
    "print(mean, stddev, minVal, maxVal, minFile, maxFile)\n",
    "\n",
    "#Preprocess all data\n",
    "directory = 'data/raw'\n",
    "for subdir in os.listdir(os.fsencode(directory)):\n",
    "    subdirname = os.fsdecode(subdir)\n",
    "    if not subdirname.startswith(\".\"):\n",
    "        path1 = os.path.join(directory, subdirname)\n",
    "        for subsubdir in os.listdir(os.fsencode(path1)):\n",
    "            subsubdirname = os.fsdecode(subsubdir)\n",
    "            if not subsubdirname.startswith(\".\"):\n",
    "                path2 = os.path.join(path1, subsubdirname)\n",
    "                newPath = path2.replace(\"raw\", \"preprocessed\")\n",
    "                rebuildNii(path2, newPath, mean, stddev)"
   ]
  },
  {
   "cell_type": "code",
   "execution_count": 6,
   "metadata": {},
   "outputs": [
    {
     "data": {
      "text/plain": [
       "(552, 512, 111)"
      ]
     },
     "execution_count": 6,
     "metadata": {},
     "output_type": "execute_result"
    }
   ],
   "source": [
    "nib.load('data/raw/val/1078523304/volume-1078523304.nii').get_data().shape"
   ]
  },
  {
   "cell_type": "code",
   "execution_count": 32,
   "metadata": {},
   "outputs": [
    {
     "name": "stdout",
     "output_type": "stream",
     "text": [
      "[[-0.6079602  -0.60989296 -0.60989296 -0.61569107 -0.61182564 -0.61182564\n",
      "  -0.60989296 -0.6137584  -0.60989296 -0.60602754]\n",
      " [-0.61569107 -0.61569107 -0.6137584  -0.6137584  -0.6137584  -0.6137584\n",
      "  -0.61182564 -0.6079602  -0.60989296 -0.60989296]\n",
      " [-0.61569107 -0.6137584  -0.61182564 -0.61182564 -0.6137584  -0.6079602\n",
      "  -0.6079602  -0.60989296 -0.60989296 -0.6137584 ]\n",
      " [-0.61182564 -0.61182564 -0.6137584  -0.6137584  -0.61182564 -0.60989296\n",
      "  -0.6079602  -0.60989296 -0.6079602  -0.60989296]\n",
      " [-0.6021621  -0.60989296 -0.61182564 -0.61182564 -0.60989296 -0.60989296\n",
      "  -0.61182564 -0.60602754 -0.60602754 -0.6079602 ]\n",
      " [-0.6021621  -0.6079602  -0.6079602  -0.61182564 -0.61182564 -0.61182564\n",
      "  -0.60989296 -0.61182564 -0.61182564 -0.6079602 ]\n",
      " [-0.6079602  -0.6040948  -0.6040948  -0.61182564 -0.6079602  -0.6040948\n",
      "  -0.60602754 -0.6079602  -0.6079602  -0.60602754]\n",
      " [-0.6040948  -0.6040948  -0.6079602  -0.60989296 -0.61182564 -0.60989296\n",
      "  -0.60989296 -0.60989296 -0.60989296 -0.6079602 ]\n",
      " [-0.60602754 -0.6079602  -0.60989296 -0.6137584  -0.61182564 -0.6079602\n",
      "  -0.60989296 -0.61182564 -0.60989296 -0.60602754]\n",
      " [-0.6079602  -0.60989296 -0.61182564 -0.60989296 -0.6079602  -0.6079602\n",
      "  -0.60989296 -0.61182564 -0.61182564 -0.60989296]]\n",
      "(68, 512, 512)\n",
      "-0.6253546\n",
      "-0.08999413\n",
      "-0.57912725\n",
      "0.05367873\n",
      "(13, 508, 394)\n",
      "[[ 5.90319514e-01  9.76861417e-01  1.07929504e+00  3.79654229e-01\n",
      "  -1.88562304e-01  2.30835602e-01 -1.07388519e-01  1.05067473e-02\n",
      "   9.67197835e-01  1.82532084e+00]\n",
      " [ 9.13082004e-01  9.16805416e-02 -7.25997537e-02  3.04278553e-01\n",
      "   8.97478312e-02  3.97048622e-01  1.35567248e+00  1.33634531e+00\n",
      "   9.34341788e-01  6.05781198e-01]\n",
      " [ 8.97620320e-01  3.13942105e-01  9.26610947e-01  1.82532084e+00\n",
      "   2.86318564e+00  3.37921906e+00  3.21107340e+00  1.85431147e+00\n",
      "   1.21651733e+00  2.62159705e+00]\n",
      " [ 3.82954025e+00  4.24700546e+00  6.17391682e+00  5.57864237e+00\n",
      "   6.99725103e+00  5.81056738e+00  8.26124287e+00  8.34241676e+00\n",
      "   7.65243912e+00  3.71744323e+00]\n",
      " [ 1.22870770e+01  1.17227259e+01  1.48440514e+01  1.37617340e+01\n",
      "   1.66878567e+01  1.47126265e+01  1.22387590e+01  9.17348194e+00\n",
      "   3.05647087e+01  1.95965824e+01]\n",
      " [ 2.05144787e+00  5.10899401e+00  2.65831852e+00  6.19131088e+00\n",
      "   6.71507549e+00  2.02633686e+01  3.40861015e+01  4.30403442e+01\n",
      "   2.08586426e+01  3.56052132e+01]\n",
      " [ 8.59366894e+00  9.44406128e+00  1.42255840e+01  1.28804188e+01\n",
      "   3.42755089e+01  2.60073795e+01  3.96793633e+01  3.13223305e+01\n",
      "   3.32917595e+01  1.27586575e+01]\n",
      " [ 2.25246372e+01  3.04120255e+01  2.73293533e+01  3.65889626e+01\n",
      "   1.86495552e+01  2.78705120e+01  1.78223553e+01  2.16413898e+01\n",
      "   1.26253004e+01  2.41732388e+01]\n",
      " [ 1.23953085e+01  2.18249969e+01  1.44710379e+01  2.12490501e+01\n",
      "   1.19237270e+01  2.17689476e+01  1.72154846e+01  2.58914165e+01\n",
      "   2.25265713e+01  2.14713116e+01]\n",
      " [ 2.86474609e+01  3.17378616e+01  2.72559109e+01  3.11329250e+01\n",
      "   2.78279915e+01  2.86977119e+01  2.62856903e+01  2.22192707e+01\n",
      "   1.83673801e+01  1.03466368e+01]]\n",
      "(176, 512, 512)\n",
      "-0.62148917\n",
      "43.040344\n",
      "0.24050342\n",
      "1.1761147\n",
      "(99, 345, 267)\n"
     ]
    }
   ],
   "source": [
    "img = nib.load('data/preprocessed/train/4030249091/img.nii').get_data()\n",
    "print(img[:10,375:385, 56])\n",
    "print(img.shape)\n",
    "print(np.min(img))\n",
    "print(np.max(img))\n",
    "print(np.mean(img))\n",
    "print(np.std(img))\n",
    "print(np.unravel_index(np.argmin(img), img.shape))\n",
    "\n",
    "img = nib.load('data/preprocessed/train/1543518185/img.nii').get_data()\n",
    "print(img[99,340:350,260:270])\n",
    "print(img.shape)\n",
    "print(np.min(img))\n",
    "print(np.max(img))\n",
    "print(np.mean(img))\n",
    "print(np.std(img))\n",
    "print(np.unravel_index(np.argmax(img), img.shape))"
   ]
  },
  {
   "cell_type": "code",
   "execution_count": null,
   "metadata": {},
   "outputs": [],
   "source": []
  }
 ],
 "metadata": {
  "kernelspec": {
   "display_name": "Python 3",
   "language": "python",
   "name": "python3"
  },
  "language_info": {
   "codemirror_mode": {
    "name": "ipython",
    "version": 3
   },
   "file_extension": ".py",
   "mimetype": "text/x-python",
   "name": "python",
   "nbconvert_exporter": "python",
   "pygments_lexer": "ipython3",
   "version": "3.7.1"
  }
 },
 "nbformat": 4,
 "nbformat_minor": 2
}
